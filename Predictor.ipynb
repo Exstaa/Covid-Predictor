{
 "cells": [
  {
   "cell_type": "code",
   "execution_count": 19,
   "id": "b8eda612-3735-4cba-a447-aca1e5e3fb14",
   "metadata": {},
   "outputs": [
    {
     "ename": "ImportError",
     "evalue": "cannot import name 'LogisticRegression' from 'sklearn.preprocessing' (C:\\Users\\user\\anaconda3\\Lib\\site-packages\\sklearn\\preprocessing\\__init__.py)",
     "output_type": "error",
     "traceback": [
      "\u001b[1;31m---------------------------------------------------------------------------\u001b[0m",
      "\u001b[1;31mImportError\u001b[0m                               Traceback (most recent call last)",
      "Cell \u001b[1;32mIn[19], line 6\u001b[0m\n\u001b[0;32m      4\u001b[0m \u001b[38;5;28;01mfrom\u001b[39;00m \u001b[38;5;21;01mxgboost\u001b[39;00m \u001b[38;5;28;01mimport\u001b[39;00m XGBClassifier\n\u001b[0;32m      5\u001b[0m \u001b[38;5;28;01mfrom\u001b[39;00m \u001b[38;5;21;01msklearn\u001b[39;00m\u001b[38;5;21;01m.\u001b[39;00m\u001b[38;5;21;01mmodel_selection\u001b[39;00m \u001b[38;5;28;01mimport\u001b[39;00m train_test_split, RandomizedSearchCV, cross_val_score\n\u001b[1;32m----> 6\u001b[0m \u001b[38;5;28;01mfrom\u001b[39;00m \u001b[38;5;21;01msklearn\u001b[39;00m\u001b[38;5;21;01m.\u001b[39;00m\u001b[38;5;21;01mpreprocessing\u001b[39;00m \u001b[38;5;28;01mimport\u001b[39;00m StandardScaler, PolynomialFeatures, LogisticRegression\n\u001b[0;32m      7\u001b[0m \u001b[38;5;28;01mfrom\u001b[39;00m \u001b[38;5;21;01msklearn\u001b[39;00m\u001b[38;5;21;01m.\u001b[39;00m\u001b[38;5;21;01mmetrics\u001b[39;00m \u001b[38;5;28;01mimport\u001b[39;00m accuracy_score, classification_report, confusion_matrix\n\u001b[0;32m      8\u001b[0m \u001b[38;5;28;01mfrom\u001b[39;00m \u001b[38;5;21;01mimblearn\u001b[39;00m\u001b[38;5;21;01m.\u001b[39;00m\u001b[38;5;21;01mover_sampling\u001b[39;00m \u001b[38;5;28;01mimport\u001b[39;00m SMOTE\n",
      "\u001b[1;31mImportError\u001b[0m: cannot import name 'LogisticRegression' from 'sklearn.preprocessing' (C:\\Users\\user\\anaconda3\\Lib\\site-packages\\sklearn\\preprocessing\\__init__.py)"
     ]
    }
   ],
   "source": [
    "import pandas as pd\n",
    "import numpy as np\n",
    "from sklearn.ensemble import RandomForestClassifier\n",
    "from xgboost import XGBClassifier\n",
    "from sklearn.model_selection import train_test_split, RandomizedSearchCV, cross_val_score\n",
    "from sklearn.preprocessing import StandardScaler, PolynomialFeatures\n",
    "from sklearn.metrics import accuracy_score, classification_report, confusion_matrix\n",
    "from imblearn.over_sampling import SMOTE\n",
    "import tensorflow as tf\n",
    "from tensorflow.keras.models import Sequential\n",
    "from tensorflow.keras.layers import Dense, Dropout\n",
    "\n",
    "dataset = pd.read_csv(\"dataset.csv\")\n",
    "\n",
    "print(dataset.isnull().sum())"
   ]
  },
  {
   "cell_type": "code",
   "execution_count": 12,
   "id": "ee9db735-bbea-4957-a387-0e33c25a5582",
   "metadata": {},
   "outputs": [
    {
     "data": {
      "text/html": [
       "<div>\n",
       "<style scoped>\n",
       "    .dataframe tbody tr th:only-of-type {\n",
       "        vertical-align: middle;\n",
       "    }\n",
       "\n",
       "    .dataframe tbody tr th {\n",
       "        vertical-align: top;\n",
       "    }\n",
       "\n",
       "    .dataframe thead th {\n",
       "        text-align: right;\n",
       "    }\n",
       "</style>\n",
       "<table border=\"1\" class=\"dataframe\">\n",
       "  <thead>\n",
       "    <tr style=\"text-align: right;\">\n",
       "      <th></th>\n",
       "      <th>Temperature</th>\n",
       "      <th>Heart Rate</th>\n",
       "      <th>Oxygen Saturation</th>\n",
       "      <th>Respiratory Rate</th>\n",
       "      <th>CO2 Level</th>\n",
       "      <th>Activity Level</th>\n",
       "      <th>Skin Temperature</th>\n",
       "      <th>Cough Count</th>\n",
       "      <th>Room Humidity</th>\n",
       "      <th>Air Quality Index</th>\n",
       "      <th>Noise Level</th>\n",
       "      <th>Proximity</th>\n",
       "      <th>COVID-19 Status</th>\n",
       "    </tr>\n",
       "  </thead>\n",
       "  <tbody>\n",
       "    <tr>\n",
       "      <th>0</th>\n",
       "      <td>37.646441</td>\n",
       "      <td>89</td>\n",
       "      <td>99.755407</td>\n",
       "      <td>16</td>\n",
       "      <td>741</td>\n",
       "      <td>1812</td>\n",
       "      <td>34.774361</td>\n",
       "      <td>10</td>\n",
       "      <td>47</td>\n",
       "      <td>98</td>\n",
       "      <td>67</td>\n",
       "      <td>137</td>\n",
       "      <td>Suspect</td>\n",
       "    </tr>\n",
       "    <tr>\n",
       "      <th>1</th>\n",
       "      <td>38.145568</td>\n",
       "      <td>75</td>\n",
       "      <td>96.146920</td>\n",
       "      <td>12</td>\n",
       "      <td>513</td>\n",
       "      <td>9085</td>\n",
       "      <td>36.716540</td>\n",
       "      <td>2</td>\n",
       "      <td>33</td>\n",
       "      <td>121</td>\n",
       "      <td>24</td>\n",
       "      <td>42</td>\n",
       "      <td>Suspect</td>\n",
       "    </tr>\n",
       "    <tr>\n",
       "      <th>2</th>\n",
       "      <td>37.808290</td>\n",
       "      <td>75</td>\n",
       "      <td>90.770160</td>\n",
       "      <td>14</td>\n",
       "      <td>467</td>\n",
       "      <td>3883</td>\n",
       "      <td>36.133021</td>\n",
       "      <td>5</td>\n",
       "      <td>57</td>\n",
       "      <td>60</td>\n",
       "      <td>52</td>\n",
       "      <td>152</td>\n",
       "      <td>Suspect</td>\n",
       "    </tr>\n",
       "    <tr>\n",
       "      <th>3</th>\n",
       "      <td>37.634650</td>\n",
       "      <td>75</td>\n",
       "      <td>95.416080</td>\n",
       "      <td>16</td>\n",
       "      <td>395</td>\n",
       "      <td>9826</td>\n",
       "      <td>34.351239</td>\n",
       "      <td>2</td>\n",
       "      <td>56</td>\n",
       "      <td>2</td>\n",
       "      <td>56</td>\n",
       "      <td>121</td>\n",
       "      <td>Suspect</td>\n",
       "    </tr>\n",
       "    <tr>\n",
       "      <th>4</th>\n",
       "      <td>37.270964</td>\n",
       "      <td>81</td>\n",
       "      <td>91.380077</td>\n",
       "      <td>16</td>\n",
       "      <td>832</td>\n",
       "      <td>9875</td>\n",
       "      <td>37.684310</td>\n",
       "      <td>9</td>\n",
       "      <td>40</td>\n",
       "      <td>83</td>\n",
       "      <td>58</td>\n",
       "      <td>193</td>\n",
       "      <td>Suspect</td>\n",
       "    </tr>\n",
       "    <tr>\n",
       "      <th>...</th>\n",
       "      <td>...</td>\n",
       "      <td>...</td>\n",
       "      <td>...</td>\n",
       "      <td>...</td>\n",
       "      <td>...</td>\n",
       "      <td>...</td>\n",
       "      <td>...</td>\n",
       "      <td>...</td>\n",
       "      <td>...</td>\n",
       "      <td>...</td>\n",
       "      <td>...</td>\n",
       "      <td>...</td>\n",
       "      <td>...</td>\n",
       "    </tr>\n",
       "    <tr>\n",
       "      <th>99995</th>\n",
       "      <td>38.177763</td>\n",
       "      <td>83</td>\n",
       "      <td>92.573203</td>\n",
       "      <td>20</td>\n",
       "      <td>698</td>\n",
       "      <td>46</td>\n",
       "      <td>37.348060</td>\n",
       "      <td>13</td>\n",
       "      <td>57</td>\n",
       "      <td>12</td>\n",
       "      <td>27</td>\n",
       "      <td>112</td>\n",
       "      <td>Suspect</td>\n",
       "    </tr>\n",
       "    <tr>\n",
       "      <th>99996</th>\n",
       "      <td>37.522562</td>\n",
       "      <td>79</td>\n",
       "      <td>99.371052</td>\n",
       "      <td>13</td>\n",
       "      <td>701</td>\n",
       "      <td>4075</td>\n",
       "      <td>34.284446</td>\n",
       "      <td>19</td>\n",
       "      <td>31</td>\n",
       "      <td>24</td>\n",
       "      <td>24</td>\n",
       "      <td>15</td>\n",
       "      <td>Suspect</td>\n",
       "    </tr>\n",
       "    <tr>\n",
       "      <th>99997</th>\n",
       "      <td>38.430399</td>\n",
       "      <td>72</td>\n",
       "      <td>93.413615</td>\n",
       "      <td>12</td>\n",
       "      <td>412</td>\n",
       "      <td>2882</td>\n",
       "      <td>36.362479</td>\n",
       "      <td>10</td>\n",
       "      <td>49</td>\n",
       "      <td>151</td>\n",
       "      <td>68</td>\n",
       "      <td>31</td>\n",
       "      <td>Suspect</td>\n",
       "    </tr>\n",
       "    <tr>\n",
       "      <th>99998</th>\n",
       "      <td>37.653097</td>\n",
       "      <td>62</td>\n",
       "      <td>92.375070</td>\n",
       "      <td>22</td>\n",
       "      <td>991</td>\n",
       "      <td>2605</td>\n",
       "      <td>37.754327</td>\n",
       "      <td>4</td>\n",
       "      <td>46</td>\n",
       "      <td>91</td>\n",
       "      <td>60</td>\n",
       "      <td>104</td>\n",
       "      <td>Suspect</td>\n",
       "    </tr>\n",
       "    <tr>\n",
       "      <th>99999</th>\n",
       "      <td>36.677268</td>\n",
       "      <td>66</td>\n",
       "      <td>97.969880</td>\n",
       "      <td>20</td>\n",
       "      <td>642</td>\n",
       "      <td>8945</td>\n",
       "      <td>37.513521</td>\n",
       "      <td>2</td>\n",
       "      <td>30</td>\n",
       "      <td>106</td>\n",
       "      <td>33</td>\n",
       "      <td>55</td>\n",
       "      <td>Not</td>\n",
       "    </tr>\n",
       "  </tbody>\n",
       "</table>\n",
       "<p>100000 rows × 13 columns</p>\n",
       "</div>"
      ],
      "text/plain": [
       "       Temperature  Heart Rate  Oxygen Saturation  Respiratory Rate  \\\n",
       "0        37.646441          89          99.755407                16   \n",
       "1        38.145568          75          96.146920                12   \n",
       "2        37.808290          75          90.770160                14   \n",
       "3        37.634650          75          95.416080                16   \n",
       "4        37.270964          81          91.380077                16   \n",
       "...            ...         ...                ...               ...   \n",
       "99995    38.177763          83          92.573203                20   \n",
       "99996    37.522562          79          99.371052                13   \n",
       "99997    38.430399          72          93.413615                12   \n",
       "99998    37.653097          62          92.375070                22   \n",
       "99999    36.677268          66          97.969880                20   \n",
       "\n",
       "       CO2 Level  Activity Level  Skin Temperature  Cough Count  \\\n",
       "0            741            1812         34.774361           10   \n",
       "1            513            9085         36.716540            2   \n",
       "2            467            3883         36.133021            5   \n",
       "3            395            9826         34.351239            2   \n",
       "4            832            9875         37.684310            9   \n",
       "...          ...             ...               ...          ...   \n",
       "99995        698              46         37.348060           13   \n",
       "99996        701            4075         34.284446           19   \n",
       "99997        412            2882         36.362479           10   \n",
       "99998        991            2605         37.754327            4   \n",
       "99999        642            8945         37.513521            2   \n",
       "\n",
       "       Room Humidity  Air Quality Index  Noise Level  Proximity  \\\n",
       "0                 47                 98           67        137   \n",
       "1                 33                121           24         42   \n",
       "2                 57                 60           52        152   \n",
       "3                 56                  2           56        121   \n",
       "4                 40                 83           58        193   \n",
       "...              ...                ...          ...        ...   \n",
       "99995             57                 12           27        112   \n",
       "99996             31                 24           24         15   \n",
       "99997             49                151           68         31   \n",
       "99998             46                 91           60        104   \n",
       "99999             30                106           33         55   \n",
       "\n",
       "      COVID-19 Status  \n",
       "0             Suspect  \n",
       "1             Suspect  \n",
       "2             Suspect  \n",
       "3             Suspect  \n",
       "4             Suspect  \n",
       "...               ...  \n",
       "99995         Suspect  \n",
       "99996         Suspect  \n",
       "99997         Suspect  \n",
       "99998         Suspect  \n",
       "99999             Not  \n",
       "\n",
       "[100000 rows x 13 columns]"
      ]
     },
     "execution_count": 12,
     "metadata": {},
     "output_type": "execute_result"
    }
   ],
   "source": [
    "dataset"
   ]
  },
  {
   "cell_type": "code",
   "execution_count": 13,
   "id": "e304b3af-dd87-434e-99c8-f228a966942b",
   "metadata": {},
   "outputs": [],
   "source": [
    "from sklearn.preprocessing import LabelEncoder\n",
    "le = LabelEncoder()\n",
    "dataset['COVID-19 Status'] = le.fit_transform(dataset['COVID-19 Status'])"
   ]
  },
  {
   "cell_type": "code",
   "execution_count": 14,
   "id": "7599e640-9d3d-4eb5-a9c9-3654c917fb4e",
   "metadata": {},
   "outputs": [],
   "source": [
    "X = dataset.drop(columns=\"COVID-19 Status\", axis=1)\n",
    "Y = dataset[\"COVID-19 Status\"]\n",
    "\n",
    "X_train, X_test, Y_train, Y_test = train_test_split(X, Y, test_size=0.2, random_state=41)"
   ]
  },
  {
   "cell_type": "code",
   "execution_count": 15,
   "id": "f8c938d5-3d4a-4f8d-a4a4-346125451e26",
   "metadata": {},
   "outputs": [],
   "source": [
    "scaler = StandardScaler()\n",
    "X_train_scaled = scaler.fit_transform(X_train)\n",
    "X_test_scaled = scaler.transform(X_test)"
   ]
  },
  {
   "cell_type": "code",
   "execution_count": 16,
   "id": "438c6b20-7e08-4a7b-90a0-f232dcb436a7",
   "metadata": {},
   "outputs": [],
   "source": [
    "smote = SMOTE(random_state=42)\n",
    "X_train_resampled, Y_train_resampled = smote.fit_resample(X_train_scaled, Y_train)"
   ]
  },
  {
   "cell_type": "code",
   "execution_count": 20,
   "id": "7679e286-3313-4299-b30e-f6db9e6d4fdc",
   "metadata": {},
   "outputs": [
    {
     "data": {
      "text/html": [
       "<style>#sk-container-id-1 {color: black;background-color: white;}#sk-container-id-1 pre{padding: 0;}#sk-container-id-1 div.sk-toggleable {background-color: white;}#sk-container-id-1 label.sk-toggleable__label {cursor: pointer;display: block;width: 100%;margin-bottom: 0;padding: 0.3em;box-sizing: border-box;text-align: center;}#sk-container-id-1 label.sk-toggleable__label-arrow:before {content: \"▸\";float: left;margin-right: 0.25em;color: #696969;}#sk-container-id-1 label.sk-toggleable__label-arrow:hover:before {color: black;}#sk-container-id-1 div.sk-estimator:hover label.sk-toggleable__label-arrow:before {color: black;}#sk-container-id-1 div.sk-toggleable__content {max-height: 0;max-width: 0;overflow: hidden;text-align: left;background-color: #f0f8ff;}#sk-container-id-1 div.sk-toggleable__content pre {margin: 0.2em;color: black;border-radius: 0.25em;background-color: #f0f8ff;}#sk-container-id-1 input.sk-toggleable__control:checked~div.sk-toggleable__content {max-height: 200px;max-width: 100%;overflow: auto;}#sk-container-id-1 input.sk-toggleable__control:checked~label.sk-toggleable__label-arrow:before {content: \"▾\";}#sk-container-id-1 div.sk-estimator input.sk-toggleable__control:checked~label.sk-toggleable__label {background-color: #d4ebff;}#sk-container-id-1 div.sk-label input.sk-toggleable__control:checked~label.sk-toggleable__label {background-color: #d4ebff;}#sk-container-id-1 input.sk-hidden--visually {border: 0;clip: rect(1px 1px 1px 1px);clip: rect(1px, 1px, 1px, 1px);height: 1px;margin: -1px;overflow: hidden;padding: 0;position: absolute;width: 1px;}#sk-container-id-1 div.sk-estimator {font-family: monospace;background-color: #f0f8ff;border: 1px dotted black;border-radius: 0.25em;box-sizing: border-box;margin-bottom: 0.5em;}#sk-container-id-1 div.sk-estimator:hover {background-color: #d4ebff;}#sk-container-id-1 div.sk-parallel-item::after {content: \"\";width: 100%;border-bottom: 1px solid gray;flex-grow: 1;}#sk-container-id-1 div.sk-label:hover label.sk-toggleable__label {background-color: #d4ebff;}#sk-container-id-1 div.sk-serial::before {content: \"\";position: absolute;border-left: 1px solid gray;box-sizing: border-box;top: 0;bottom: 0;left: 50%;z-index: 0;}#sk-container-id-1 div.sk-serial {display: flex;flex-direction: column;align-items: center;background-color: white;padding-right: 0.2em;padding-left: 0.2em;position: relative;}#sk-container-id-1 div.sk-item {position: relative;z-index: 1;}#sk-container-id-1 div.sk-parallel {display: flex;align-items: stretch;justify-content: center;background-color: white;position: relative;}#sk-container-id-1 div.sk-item::before, #sk-container-id-1 div.sk-parallel-item::before {content: \"\";position: absolute;border-left: 1px solid gray;box-sizing: border-box;top: 0;bottom: 0;left: 50%;z-index: -1;}#sk-container-id-1 div.sk-parallel-item {display: flex;flex-direction: column;z-index: 1;position: relative;background-color: white;}#sk-container-id-1 div.sk-parallel-item:first-child::after {align-self: flex-end;width: 50%;}#sk-container-id-1 div.sk-parallel-item:last-child::after {align-self: flex-start;width: 50%;}#sk-container-id-1 div.sk-parallel-item:only-child::after {width: 0;}#sk-container-id-1 div.sk-dashed-wrapped {border: 1px dashed gray;margin: 0 0.4em 0.5em 0.4em;box-sizing: border-box;padding-bottom: 0.4em;background-color: white;}#sk-container-id-1 div.sk-label label {font-family: monospace;font-weight: bold;display: inline-block;line-height: 1.2em;}#sk-container-id-1 div.sk-label-container {text-align: center;}#sk-container-id-1 div.sk-container {/* jupyter's `normalize.less` sets `[hidden] { display: none; }` but bootstrap.min.css set `[hidden] { display: none !important; }` so we also need the `!important` here to be able to override the default hidden behavior on the sphinx rendered scikit-learn.org. See: https://github.com/scikit-learn/scikit-learn/issues/21755 */display: inline-block !important;position: relative;}#sk-container-id-1 div.sk-text-repr-fallback {display: none;}</style><div id=\"sk-container-id-1\" class=\"sk-top-container\"><div class=\"sk-text-repr-fallback\"><pre>GridSearchCV(cv=5, estimator=LogisticRegression(), n_jobs=-1,\n",
       "             param_grid={&#x27;C&#x27;: [0.01, 0.1, 1, 10, 100],\n",
       "                         &#x27;max_iter&#x27;: [200, 500, 1000],\n",
       "                         &#x27;solver&#x27;: [&#x27;liblinear&#x27;, &#x27;lbfgs&#x27;]},\n",
       "             scoring=&#x27;accuracy&#x27;)</pre><b>In a Jupyter environment, please rerun this cell to show the HTML representation or trust the notebook. <br />On GitHub, the HTML representation is unable to render, please try loading this page with nbviewer.org.</b></div><div class=\"sk-container\" hidden><div class=\"sk-item sk-dashed-wrapped\"><div class=\"sk-label-container\"><div class=\"sk-label sk-toggleable\"><input class=\"sk-toggleable__control sk-hidden--visually\" id=\"sk-estimator-id-1\" type=\"checkbox\" ><label for=\"sk-estimator-id-1\" class=\"sk-toggleable__label sk-toggleable__label-arrow\">GridSearchCV</label><div class=\"sk-toggleable__content\"><pre>GridSearchCV(cv=5, estimator=LogisticRegression(), n_jobs=-1,\n",
       "             param_grid={&#x27;C&#x27;: [0.01, 0.1, 1, 10, 100],\n",
       "                         &#x27;max_iter&#x27;: [200, 500, 1000],\n",
       "                         &#x27;solver&#x27;: [&#x27;liblinear&#x27;, &#x27;lbfgs&#x27;]},\n",
       "             scoring=&#x27;accuracy&#x27;)</pre></div></div></div><div class=\"sk-parallel\"><div class=\"sk-parallel-item\"><div class=\"sk-item\"><div class=\"sk-label-container\"><div class=\"sk-label sk-toggleable\"><input class=\"sk-toggleable__control sk-hidden--visually\" id=\"sk-estimator-id-2\" type=\"checkbox\" ><label for=\"sk-estimator-id-2\" class=\"sk-toggleable__label sk-toggleable__label-arrow\">estimator: LogisticRegression</label><div class=\"sk-toggleable__content\"><pre>LogisticRegression()</pre></div></div></div><div class=\"sk-serial\"><div class=\"sk-item\"><div class=\"sk-estimator sk-toggleable\"><input class=\"sk-toggleable__control sk-hidden--visually\" id=\"sk-estimator-id-3\" type=\"checkbox\" ><label for=\"sk-estimator-id-3\" class=\"sk-toggleable__label sk-toggleable__label-arrow\">LogisticRegression</label><div class=\"sk-toggleable__content\"><pre>LogisticRegression()</pre></div></div></div></div></div></div></div></div></div></div>"
      ],
      "text/plain": [
       "GridSearchCV(cv=5, estimator=LogisticRegression(), n_jobs=-1,\n",
       "             param_grid={'C': [0.01, 0.1, 1, 10, 100],\n",
       "                         'max_iter': [200, 500, 1000],\n",
       "                         'solver': ['liblinear', 'lbfgs']},\n",
       "             scoring='accuracy')"
      ]
     },
     "execution_count": 20,
     "metadata": {},
     "output_type": "execute_result"
    }
   ],
   "source": [
    "from sklearn.model_selection import GridSearchCV\n",
    "from sklearn.linear_model import LogisticRegression \n",
    "\n",
    "param_grid = {\n",
    "    'C': [0.01, 0.1, 1, 10, 100],  \n",
    "    'solver': ['liblinear', 'lbfgs'], \n",
    "    'max_iter': [200, 500, 1000]\n",
    "}\n",
    "\n",
    "grid_search = GridSearchCV(LogisticRegression(), param_grid, cv=5, scoring='accuracy', n_jobs=-1)\n",
    "grid_search.fit(X_train_resampled, Y_train_resampled)"
   ]
  },
  {
   "cell_type": "code",
   "execution_count": 21,
   "id": "e7f5b13e-55af-4db3-ad82-a7c708e5e273",
   "metadata": {},
   "outputs": [
    {
     "name": "stdout",
     "output_type": "stream",
     "text": [
      "{'C': 0.1, 'max_iter': 200, 'solver': 'lbfgs'}\n"
     ]
    }
   ],
   "source": [
    "best_model = grid_search.best_estimator_\n",
    "print(grid_search.best_params_)"
   ]
  },
  {
   "cell_type": "code",
   "execution_count": 22,
   "id": "2a701c90-4013-43bf-b986-9531c8b17793",
   "metadata": {},
   "outputs": [],
   "source": [
    "y_train_pred = best_model.predict(X_train_scaled)\n",
    "y_test_pred = best_model.predict(X_test_scaled)"
   ]
  },
  {
   "cell_type": "code",
   "execution_count": 23,
   "id": "d3a394b1-a9bd-418a-ad09-c6317ee93d35",
   "metadata": {},
   "outputs": [],
   "source": [
    "train_accuracy = accuracy_score(Y_train, y_train_pred)\n",
    "test_accuracy = accuracy_score(Y_test, y_test_pred)"
   ]
  },
  {
   "cell_type": "code",
   "execution_count": 24,
   "id": "5324211d-cf3b-41ca-a639-ae5b981af75c",
   "metadata": {},
   "outputs": [
    {
     "data": {
      "text/plain": [
       "0.9101625"
      ]
     },
     "execution_count": 24,
     "metadata": {},
     "output_type": "execute_result"
    }
   ],
   "source": [
    "train_accuracy"
   ]
  },
  {
   "cell_type": "code",
   "execution_count": 25,
   "id": "07f5c838-4062-401d-8f1c-f516c0a2147d",
   "metadata": {},
   "outputs": [
    {
     "data": {
      "text/plain": [
       "0.91"
      ]
     },
     "execution_count": 25,
     "metadata": {},
     "output_type": "execute_result"
    }
   ],
   "source": [
    "test_accuracy"
   ]
  },
  {
   "cell_type": "code",
   "execution_count": 28,
   "id": "c8e4fab8-f0fe-4bda-9ffd-5fe2aece11d0",
   "metadata": {},
   "outputs": [],
   "source": [
    "fake_input = np.array([\n",
    "    [\n",
    "        np.random.uniform(36, 40),  \n",
    "        np.random.randint(60, 100),  \n",
    "        np.random.uniform(90, 100),  \n",
    "        np.random.randint(12, 24),  \n",
    "        np.random.randint(400, 1000), \n",
    "        np.random.randint(0, 10),  \n",
    "        np.random.uniform(34, 38),  \n",
    "        np.random.randint(0, 20),  \n",
    "        np.random.randint(30, 60),  \n",
    "        np.random.randint(0, 150),  \n",
    "        np.random.randint(40, 80),  \n",
    "        np.random.randint(50, 150),  \n",
    "    ]\n",
    "])\n",
    "\n",
    "fake_input_df = pd.DataFrame(fake_input, columns=[\n",
    "    \"Temperature\", \"Heart Rate\", \"Oxygen Saturation\", \"Respiratory Rate\", \n",
    "    \"CO2 Level\", \"Activity Level\", \"Skin Temperature\", \"Cough Count\", \n",
    "    \"Room Humidity\", \"Air Quality Index\", \"Noise Level\", \"Proximity\"\n",
    "])"
   ]
  },
  {
   "cell_type": "code",
   "execution_count": 29,
   "id": "66b2ca61-8c0d-4475-a6b6-3b1ae3caa6fd",
   "metadata": {},
   "outputs": [
    {
     "name": "stdout",
     "output_type": "stream",
     "text": [
      "not suspect.\n"
     ]
    },
    {
     "name": "stderr",
     "output_type": "stream",
     "text": [
      "C:\\Users\\user\\anaconda3\\Lib\\site-packages\\sklearn\\base.py:432: UserWarning: X has feature names, but LogisticRegression was fitted without feature names\n",
      "  warnings.warn(\n"
     ]
    }
   ],
   "source": [
    "prediction = best_model.predict(fake_input_df)\n",
    "\n",
    "if prediction[0] == 1:\n",
    "    print(\"suspect.\")\n",
    "else:\n",
    "    print(\"not suspect.\")"
   ]
  },
  {
   "cell_type": "code",
   "execution_count": null,
   "id": "6749b834-55ce-453a-b322-b1ee18243685",
   "metadata": {},
   "outputs": [],
   "source": []
  }
 ],
 "metadata": {
  "kernelspec": {
   "display_name": "Python 3 (ipykernel)",
   "language": "python",
   "name": "python3"
  },
  "language_info": {
   "codemirror_mode": {
    "name": "ipython",
    "version": 3
   },
   "file_extension": ".py",
   "mimetype": "text/x-python",
   "name": "python",
   "nbconvert_exporter": "python",
   "pygments_lexer": "ipython3",
   "version": "3.11.7"
  }
 },
 "nbformat": 4,
 "nbformat_minor": 5
}
